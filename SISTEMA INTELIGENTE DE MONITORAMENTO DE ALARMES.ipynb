{
 "cells": [
  {
   "cell_type": "markdown",
   "metadata": {},
   "source": [
    "# PREVISÃO DOS DISPAROS DE UM SISTEMA DE ALARME UTILIZANDO MACHINE LEARNING."
   ]
  },
  {
   "cell_type": "markdown",
   "metadata": {},
   "source": [
    "Um dos maiores causadores de custos para as empresas de monitoramento são os deslocamentos, ou seja, quando a empresa precisa enviar uma viatura (carro ou moto) até a residência ou comércio que está sendo monitorado.\n",
    "\n",
    "Acontece que muitas vezes esses disparos são causados por cenários diversos, como: um galho de arvore balançando ao vento, tempestades, animais, ou mesmo pelo próprio cliente querendo fazer um teste para ver se a empresa de monitoramento está mesmo de olho.\n",
    "\n",
    "Baseado neste fato foi elaborado o modelo de machine learning para indicar a probabilidade de o disparo ser falso ou verdadeiro."
   ]
  },
  {
   "cell_type": "markdown",
   "metadata": {},
   "source": [
    "## Importar bibliotecas\n",
    "Vamos importar algumas bibliotecas para começar!"
   ]
  },
  {
   "cell_type": "code",
   "execution_count": 1,
   "metadata": {},
   "outputs": [],
   "source": [
    "import pandas as pd\n",
    "import numpy as np\n",
    "import matplotlib.pyplot as plt\n",
    "import seaborn as sns\n",
    "%matplotlib inline"
   ]
  },
  {
   "cell_type": "markdown",
   "metadata": {},
   "source": [
    "## Os dados\n",
    "\n",
    "Vamos começar lendo os arquivos train e test em um DataFrame pandas."
   ]
  },
  {
   "cell_type": "code",
   "execution_count": 2,
   "metadata": {},
   "outputs": [
    {
     "data": {
      "text/html": [
       "<div>\n",
       "<style scoped>\n",
       "    .dataframe tbody tr th:only-of-type {\n",
       "        vertical-align: middle;\n",
       "    }\n",
       "\n",
       "    .dataframe tbody tr th {\n",
       "        vertical-align: top;\n",
       "    }\n",
       "\n",
       "    .dataframe thead th {\n",
       "        text-align: right;\n",
       "    }\n",
       "</style>\n",
       "<table border=\"1\" class=\"dataframe\">\n",
       "  <thead>\n",
       "    <tr style=\"text-align: right;\">\n",
       "      <th></th>\n",
       "      <th>Código Cliente</th>\n",
       "      <th>Nível de risco</th>\n",
       "      <th>Possui servidor CFTV</th>\n",
       "      <th>Pessoa Física, Jurídica, ou Órgão Público</th>\n",
       "      <th>Estado</th>\n",
       "      <th>Cidade</th>\n",
       "      <th>Bairro</th>\n",
       "      <th>Data/hora</th>\n",
       "      <th>Código do evento</th>\n",
       "      <th>Confirmado</th>\n",
       "    </tr>\n",
       "  </thead>\n",
       "  <tbody>\n",
       "    <tr>\n",
       "      <th>0</th>\n",
       "      <td>10049</td>\n",
       "      <td>5</td>\n",
       "      <td>0</td>\n",
       "      <td>0</td>\n",
       "      <td>SP</td>\n",
       "      <td>SAO CARLOS</td>\n",
       "      <td>JARDIM IPANEMA</td>\n",
       "      <td>2019-01-01 00:02:12.497</td>\n",
       "      <td>E131</td>\n",
       "      <td>1</td>\n",
       "    </tr>\n",
       "    <tr>\n",
       "      <th>1</th>\n",
       "      <td>10049</td>\n",
       "      <td>5</td>\n",
       "      <td>0</td>\n",
       "      <td>0</td>\n",
       "      <td>SP</td>\n",
       "      <td>SAO CARLOS</td>\n",
       "      <td>JARDIM IPANEMA</td>\n",
       "      <td>2019-01-01 00:02:17.440</td>\n",
       "      <td>E131</td>\n",
       "      <td>1</td>\n",
       "    </tr>\n",
       "    <tr>\n",
       "      <th>2</th>\n",
       "      <td>10049</td>\n",
       "      <td>5</td>\n",
       "      <td>0</td>\n",
       "      <td>0</td>\n",
       "      <td>SP</td>\n",
       "      <td>SAO CARLOS</td>\n",
       "      <td>JARDIM IPANEMA</td>\n",
       "      <td>2019-01-01 00:02:27.303</td>\n",
       "      <td>E131</td>\n",
       "      <td>1</td>\n",
       "    </tr>\n",
       "    <tr>\n",
       "      <th>3</th>\n",
       "      <td>11794</td>\n",
       "      <td>4</td>\n",
       "      <td>0</td>\n",
       "      <td>0</td>\n",
       "      <td>SP</td>\n",
       "      <td>SAO CARLOS</td>\n",
       "      <td>PARQUE SANTA MONICA</td>\n",
       "      <td>2019-01-01 00:12:09.100</td>\n",
       "      <td>E130</td>\n",
       "      <td>0</td>\n",
       "    </tr>\n",
       "    <tr>\n",
       "      <th>4</th>\n",
       "      <td>9658</td>\n",
       "      <td>5</td>\n",
       "      <td>1</td>\n",
       "      <td>0</td>\n",
       "      <td>SP</td>\n",
       "      <td>SAO CARLOS</td>\n",
       "      <td>CENTRO</td>\n",
       "      <td>2019-01-01 00:36:35.657</td>\n",
       "      <td>E131</td>\n",
       "      <td>1</td>\n",
       "    </tr>\n",
       "  </tbody>\n",
       "</table>\n",
       "</div>"
      ],
      "text/plain": [
       "   Código Cliente  Nível de risco  Possui servidor CFTV  \\\n",
       "0           10049               5                     0   \n",
       "1           10049               5                     0   \n",
       "2           10049               5                     0   \n",
       "3           11794               4                     0   \n",
       "4            9658               5                     1   \n",
       "\n",
       "   Pessoa Física, Jurídica, ou Órgão Público Estado      Cidade  \\\n",
       "0                                          0     SP  SAO CARLOS   \n",
       "1                                          0     SP  SAO CARLOS   \n",
       "2                                          0     SP  SAO CARLOS   \n",
       "3                                          0     SP  SAO CARLOS   \n",
       "4                                          0     SP  SAO CARLOS   \n",
       "\n",
       "                Bairro                Data/hora Código do evento  Confirmado  \n",
       "0       JARDIM IPANEMA  2019-01-01 00:02:12.497             E131           1  \n",
       "1       JARDIM IPANEMA  2019-01-01 00:02:17.440             E131           1  \n",
       "2       JARDIM IPANEMA  2019-01-01 00:02:27.303             E131           1  \n",
       "3  PARQUE SANTA MONICA  2019-01-01 00:12:09.100             E130           0  \n",
       "4               CENTRO  2019-01-01 00:36:35.657             E131           1  "
      ]
     },
     "execution_count": 2,
     "metadata": {},
     "output_type": "execute_result"
    }
   ],
   "source": [
    "df = pd.read_csv('train.csv',sep=\";\")\n",
    "df.head()"
   ]
  },
  {
   "cell_type": "code",
   "execution_count": 3,
   "metadata": {},
   "outputs": [
    {
     "data": {
      "text/html": [
       "<div>\n",
       "<style scoped>\n",
       "    .dataframe tbody tr th:only-of-type {\n",
       "        vertical-align: middle;\n",
       "    }\n",
       "\n",
       "    .dataframe tbody tr th {\n",
       "        vertical-align: top;\n",
       "    }\n",
       "\n",
       "    .dataframe thead th {\n",
       "        text-align: right;\n",
       "    }\n",
       "</style>\n",
       "<table border=\"1\" class=\"dataframe\">\n",
       "  <thead>\n",
       "    <tr style=\"text-align: right;\">\n",
       "      <th></th>\n",
       "      <th>Código Cliente</th>\n",
       "      <th>Nível de risco</th>\n",
       "      <th>Possui servidor CFTV</th>\n",
       "      <th>Pessoa Física, Jurídica, ou Órgão Público</th>\n",
       "      <th>Estado</th>\n",
       "      <th>Cidade</th>\n",
       "      <th>Bairro</th>\n",
       "      <th>Data/hora</th>\n",
       "      <th>Código do evento</th>\n",
       "    </tr>\n",
       "  </thead>\n",
       "  <tbody>\n",
       "    <tr>\n",
       "      <th>0</th>\n",
       "      <td>8984</td>\n",
       "      <td>4</td>\n",
       "      <td>1</td>\n",
       "      <td>2</td>\n",
       "      <td>SP</td>\n",
       "      <td>SAO CARLOS</td>\n",
       "      <td>RESID MONS ROMEU TORTORELLI</td>\n",
       "      <td>2019-01-03 19:44:13.623</td>\n",
       "      <td>E130</td>\n",
       "    </tr>\n",
       "    <tr>\n",
       "      <th>1</th>\n",
       "      <td>8984</td>\n",
       "      <td>4</td>\n",
       "      <td>1</td>\n",
       "      <td>2</td>\n",
       "      <td>SP</td>\n",
       "      <td>SAO CARLOS</td>\n",
       "      <td>RESID MONS ROMEU TORTORELLI</td>\n",
       "      <td>2019-01-03 19:44:21.167</td>\n",
       "      <td>E130</td>\n",
       "    </tr>\n",
       "    <tr>\n",
       "      <th>2</th>\n",
       "      <td>8984</td>\n",
       "      <td>4</td>\n",
       "      <td>1</td>\n",
       "      <td>2</td>\n",
       "      <td>SP</td>\n",
       "      <td>SAO CARLOS</td>\n",
       "      <td>RESID MONS ROMEU TORTORELLI</td>\n",
       "      <td>2019-01-03 19:44:28.617</td>\n",
       "      <td>E130</td>\n",
       "    </tr>\n",
       "    <tr>\n",
       "      <th>3</th>\n",
       "      <td>8984</td>\n",
       "      <td>4</td>\n",
       "      <td>1</td>\n",
       "      <td>2</td>\n",
       "      <td>SP</td>\n",
       "      <td>SAO CARLOS</td>\n",
       "      <td>RESID MONS ROMEU TORTORELLI</td>\n",
       "      <td>2019-01-03 19:44:36.127</td>\n",
       "      <td>E130</td>\n",
       "    </tr>\n",
       "    <tr>\n",
       "      <th>4</th>\n",
       "      <td>8984</td>\n",
       "      <td>4</td>\n",
       "      <td>1</td>\n",
       "      <td>2</td>\n",
       "      <td>SP</td>\n",
       "      <td>SAO CARLOS</td>\n",
       "      <td>RESID MONS ROMEU TORTORELLI</td>\n",
       "      <td>2019-01-03 19:44:42.813</td>\n",
       "      <td>E130</td>\n",
       "    </tr>\n",
       "  </tbody>\n",
       "</table>\n",
       "</div>"
      ],
      "text/plain": [
       "   Código Cliente  Nível de risco  Possui servidor CFTV  \\\n",
       "0            8984               4                     1   \n",
       "1            8984               4                     1   \n",
       "2            8984               4                     1   \n",
       "3            8984               4                     1   \n",
       "4            8984               4                     1   \n",
       "\n",
       "   Pessoa Física, Jurídica, ou Órgão Público Estado      Cidade  \\\n",
       "0                                          2     SP  SAO CARLOS   \n",
       "1                                          2     SP  SAO CARLOS   \n",
       "2                                          2     SP  SAO CARLOS   \n",
       "3                                          2     SP  SAO CARLOS   \n",
       "4                                          2     SP  SAO CARLOS   \n",
       "\n",
       "                        Bairro                Data/hora Código do evento   \n",
       "0  RESID MONS ROMEU TORTORELLI  2019-01-03 19:44:13.623              E130  \n",
       "1  RESID MONS ROMEU TORTORELLI  2019-01-03 19:44:21.167              E130  \n",
       "2  RESID MONS ROMEU TORTORELLI  2019-01-03 19:44:28.617              E130  \n",
       "3  RESID MONS ROMEU TORTORELLI  2019-01-03 19:44:36.127              E130  \n",
       "4  RESID MONS ROMEU TORTORELLI  2019-01-03 19:44:42.813              E130  "
      ]
     },
     "execution_count": 3,
     "metadata": {},
     "output_type": "execute_result"
    }
   ],
   "source": [
    "dftest = pd.read_csv('test.csv',sep=\";\")\n",
    "dftest.head()"
   ]
  },
  {
   "cell_type": "markdown",
   "metadata": {},
   "source": [
    "# Análise exploratória dos dados\n",
    "\n",
    "Vamos começar algumas análises de dados exploratórios. Começaremos por verificar os dados que faltam.\n",
    "\n"
   ]
  },
  {
   "cell_type": "code",
   "execution_count": 4,
   "metadata": {},
   "outputs": [
    {
     "data": {
      "text/plain": [
       "Código Cliente                               0\n",
       "Nível de risco                               0\n",
       "Possui servidor CFTV                         0\n",
       "Pessoa Física, Jurídica, ou Órgão Público    0\n",
       "Estado                                       0\n",
       "Cidade                                       0\n",
       "Bairro                                       0\n",
       "Data/hora                                    0\n",
       "Código do evento                             0\n",
       "Confirmado                                   0\n",
       "dtype: int64"
      ]
     },
     "execution_count": 4,
     "metadata": {},
     "output_type": "execute_result"
    }
   ],
   "source": [
    "#dados ausentes\n",
    "df.isnull().sum()"
   ]
  },
  {
   "cell_type": "code",
   "execution_count": 5,
   "metadata": {},
   "outputs": [
    {
     "name": "stdout",
     "output_type": "stream",
     "text": [
      "<class 'pandas.core.frame.DataFrame'>\n",
      "RangeIndex: 1000 entries, 0 to 999\n",
      "Data columns (total 10 columns):\n",
      "Código Cliente                               1000 non-null int64\n",
      "Nível de risco                               1000 non-null int64\n",
      "Possui servidor CFTV                         1000 non-null int64\n",
      "Pessoa Física, Jurídica, ou Órgão Público    1000 non-null int64\n",
      "Estado                                       1000 non-null object\n",
      "Cidade                                       1000 non-null object\n",
      "Bairro                                       1000 non-null object\n",
      "Data/hora                                    1000 non-null object\n",
      "Código do evento                             1000 non-null object\n",
      "Confirmado                                   1000 non-null int64\n",
      "dtypes: int64(5), object(5)\n",
      "memory usage: 78.2+ KB\n"
     ]
    }
   ],
   "source": [
    "df.info()"
   ]
  },
  {
   "cell_type": "markdown",
   "metadata": {},
   "source": [
    "Antes de analisarmos quais as características mais se relacionam com a coluna \"Confirmado\" vamos separar a variável Hora na coluna \"Data/hora\" pois o horário pode ter uma relação forte com o evento confirmado."
   ]
  },
  {
   "cell_type": "code",
   "execution_count": 6,
   "metadata": {},
   "outputs": [],
   "source": [
    "df[['Data','Hora']] = df['Data/hora'].str.split(expand=True) "
   ]
  },
  {
   "cell_type": "code",
   "execution_count": 7,
   "metadata": {},
   "outputs": [],
   "source": [
    "df[['ano','mes','dia']] = df['Data'].str.split(expand=True,pat='-') "
   ]
  },
  {
   "cell_type": "code",
   "execution_count": 8,
   "metadata": {},
   "outputs": [],
   "source": [
    "df[['hora','min','seg']] = df['Hora'].str.split(expand=True,pat=':') "
   ]
  },
  {
   "cell_type": "code",
   "execution_count": null,
   "metadata": {},
   "outputs": [],
   "source": []
  },
  {
   "cell_type": "code",
   "execution_count": 9,
   "metadata": {},
   "outputs": [
    {
     "data": {
      "text/html": [
       "<div>\n",
       "<style scoped>\n",
       "    .dataframe tbody tr th:only-of-type {\n",
       "        vertical-align: middle;\n",
       "    }\n",
       "\n",
       "    .dataframe tbody tr th {\n",
       "        vertical-align: top;\n",
       "    }\n",
       "\n",
       "    .dataframe thead th {\n",
       "        text-align: right;\n",
       "    }\n",
       "</style>\n",
       "<table border=\"1\" class=\"dataframe\">\n",
       "  <thead>\n",
       "    <tr style=\"text-align: right;\">\n",
       "      <th></th>\n",
       "      <th>Código Cliente</th>\n",
       "      <th>Nível de risco</th>\n",
       "      <th>Possui servidor CFTV</th>\n",
       "      <th>Pessoa Física, Jurídica, ou Órgão Público</th>\n",
       "      <th>Estado</th>\n",
       "      <th>Cidade</th>\n",
       "      <th>Bairro</th>\n",
       "      <th>Data/hora</th>\n",
       "      <th>Código do evento</th>\n",
       "      <th>Confirmado</th>\n",
       "      <th>Data</th>\n",
       "      <th>Hora</th>\n",
       "      <th>ano</th>\n",
       "      <th>mes</th>\n",
       "      <th>dia</th>\n",
       "      <th>hora</th>\n",
       "      <th>min</th>\n",
       "      <th>seg</th>\n",
       "    </tr>\n",
       "  </thead>\n",
       "  <tbody>\n",
       "    <tr>\n",
       "      <th>0</th>\n",
       "      <td>10049</td>\n",
       "      <td>5</td>\n",
       "      <td>0</td>\n",
       "      <td>0</td>\n",
       "      <td>SP</td>\n",
       "      <td>SAO CARLOS</td>\n",
       "      <td>JARDIM IPANEMA</td>\n",
       "      <td>2019-01-01 00:02:12.497</td>\n",
       "      <td>E131</td>\n",
       "      <td>1</td>\n",
       "      <td>2019-01-01</td>\n",
       "      <td>00:02:12.497</td>\n",
       "      <td>2019</td>\n",
       "      <td>01</td>\n",
       "      <td>01</td>\n",
       "      <td>00</td>\n",
       "      <td>02</td>\n",
       "      <td>12.497</td>\n",
       "    </tr>\n",
       "    <tr>\n",
       "      <th>1</th>\n",
       "      <td>10049</td>\n",
       "      <td>5</td>\n",
       "      <td>0</td>\n",
       "      <td>0</td>\n",
       "      <td>SP</td>\n",
       "      <td>SAO CARLOS</td>\n",
       "      <td>JARDIM IPANEMA</td>\n",
       "      <td>2019-01-01 00:02:17.440</td>\n",
       "      <td>E131</td>\n",
       "      <td>1</td>\n",
       "      <td>2019-01-01</td>\n",
       "      <td>00:02:17.440</td>\n",
       "      <td>2019</td>\n",
       "      <td>01</td>\n",
       "      <td>01</td>\n",
       "      <td>00</td>\n",
       "      <td>02</td>\n",
       "      <td>17.440</td>\n",
       "    </tr>\n",
       "    <tr>\n",
       "      <th>2</th>\n",
       "      <td>10049</td>\n",
       "      <td>5</td>\n",
       "      <td>0</td>\n",
       "      <td>0</td>\n",
       "      <td>SP</td>\n",
       "      <td>SAO CARLOS</td>\n",
       "      <td>JARDIM IPANEMA</td>\n",
       "      <td>2019-01-01 00:02:27.303</td>\n",
       "      <td>E131</td>\n",
       "      <td>1</td>\n",
       "      <td>2019-01-01</td>\n",
       "      <td>00:02:27.303</td>\n",
       "      <td>2019</td>\n",
       "      <td>01</td>\n",
       "      <td>01</td>\n",
       "      <td>00</td>\n",
       "      <td>02</td>\n",
       "      <td>27.303</td>\n",
       "    </tr>\n",
       "    <tr>\n",
       "      <th>3</th>\n",
       "      <td>11794</td>\n",
       "      <td>4</td>\n",
       "      <td>0</td>\n",
       "      <td>0</td>\n",
       "      <td>SP</td>\n",
       "      <td>SAO CARLOS</td>\n",
       "      <td>PARQUE SANTA MONICA</td>\n",
       "      <td>2019-01-01 00:12:09.100</td>\n",
       "      <td>E130</td>\n",
       "      <td>0</td>\n",
       "      <td>2019-01-01</td>\n",
       "      <td>00:12:09.100</td>\n",
       "      <td>2019</td>\n",
       "      <td>01</td>\n",
       "      <td>01</td>\n",
       "      <td>00</td>\n",
       "      <td>12</td>\n",
       "      <td>09.100</td>\n",
       "    </tr>\n",
       "    <tr>\n",
       "      <th>4</th>\n",
       "      <td>9658</td>\n",
       "      <td>5</td>\n",
       "      <td>1</td>\n",
       "      <td>0</td>\n",
       "      <td>SP</td>\n",
       "      <td>SAO CARLOS</td>\n",
       "      <td>CENTRO</td>\n",
       "      <td>2019-01-01 00:36:35.657</td>\n",
       "      <td>E131</td>\n",
       "      <td>1</td>\n",
       "      <td>2019-01-01</td>\n",
       "      <td>00:36:35.657</td>\n",
       "      <td>2019</td>\n",
       "      <td>01</td>\n",
       "      <td>01</td>\n",
       "      <td>00</td>\n",
       "      <td>36</td>\n",
       "      <td>35.657</td>\n",
       "    </tr>\n",
       "  </tbody>\n",
       "</table>\n",
       "</div>"
      ],
      "text/plain": [
       "   Código Cliente  Nível de risco  Possui servidor CFTV  \\\n",
       "0           10049               5                     0   \n",
       "1           10049               5                     0   \n",
       "2           10049               5                     0   \n",
       "3           11794               4                     0   \n",
       "4            9658               5                     1   \n",
       "\n",
       "   Pessoa Física, Jurídica, ou Órgão Público Estado      Cidade  \\\n",
       "0                                          0     SP  SAO CARLOS   \n",
       "1                                          0     SP  SAO CARLOS   \n",
       "2                                          0     SP  SAO CARLOS   \n",
       "3                                          0     SP  SAO CARLOS   \n",
       "4                                          0     SP  SAO CARLOS   \n",
       "\n",
       "                Bairro                Data/hora Código do evento  Confirmado  \\\n",
       "0       JARDIM IPANEMA  2019-01-01 00:02:12.497             E131           1   \n",
       "1       JARDIM IPANEMA  2019-01-01 00:02:17.440             E131           1   \n",
       "2       JARDIM IPANEMA  2019-01-01 00:02:27.303             E131           1   \n",
       "3  PARQUE SANTA MONICA  2019-01-01 00:12:09.100             E130           0   \n",
       "4               CENTRO  2019-01-01 00:36:35.657             E131           1   \n",
       "\n",
       "         Data          Hora   ano mes dia hora min     seg  \n",
       "0  2019-01-01  00:02:12.497  2019  01  01   00  02  12.497  \n",
       "1  2019-01-01  00:02:17.440  2019  01  01   00  02  17.440  \n",
       "2  2019-01-01  00:02:27.303  2019  01  01   00  02  27.303  \n",
       "3  2019-01-01  00:12:09.100  2019  01  01   00  12  09.100  \n",
       "4  2019-01-01  00:36:35.657  2019  01  01   00  36  35.657  "
      ]
     },
     "execution_count": 9,
     "metadata": {},
     "output_type": "execute_result"
    }
   ],
   "source": [
    "df.head()"
   ]
  },
  {
   "cell_type": "markdown",
   "metadata": {},
   "source": [
    "Como próximo passo, optou-se por retirar a letra do \"Código do evento\" para que possamos trabalhar esta coluna como um valor numérico, facilitando o trabalho do modelo de machine learning:"
   ]
  },
  {
   "cell_type": "code",
   "execution_count": 10,
   "metadata": {},
   "outputs": [],
   "source": [
    "df['Código do evento']=df['Código do evento'].str.slice(start=1)"
   ]
  },
  {
   "cell_type": "code",
   "execution_count": 11,
   "metadata": {},
   "outputs": [
    {
     "data": {
      "text/plain": [
       "SP    1000\n",
       "Name: Estado, dtype: int64"
      ]
     },
     "execution_count": 11,
     "metadata": {},
     "output_type": "execute_result"
    }
   ],
   "source": [
    "#verificando a quantidade de diferentes estados\n",
    "df['Estado'].value_counts()"
   ]
  },
  {
   "cell_type": "markdown",
   "metadata": {},
   "source": [
    "Feito isso, vamos agora retirar as colunas que não são relevantes para o resultado \"Confirmado\". Como o Estado das ocorrências é somente SP, podemos desconsidera-lo. Outras variáveis serão retiradas como \"Data/hora\",'Estado','Data','Hora','ano','mes','dia','min','seg','Cidade'. No anuncio do problema cita que o cliente pode ser o agente causador do disparo do alarme, além disso os bairros também podem ter influência nos eventos, porém os clientes e os bairros em um dataset podem não ser os mesmos em um outro dataset. Pensando nisso optou-se pela retirada dessas colunas. "
   ]
  },
  {
   "cell_type": "code",
   "execution_count": 12,
   "metadata": {},
   "outputs": [],
   "source": [
    "df.drop(['Data/hora','Estado','Data','Hora','ano','mes','dia','min','seg','Cidade','Bairro','Código Cliente'],axis=1,inplace=True)"
   ]
  },
  {
   "cell_type": "code",
   "execution_count": null,
   "metadata": {},
   "outputs": [],
   "source": []
  },
  {
   "cell_type": "code",
   "execution_count": 13,
   "metadata": {},
   "outputs": [
    {
     "data": {
      "text/html": [
       "<div>\n",
       "<style scoped>\n",
       "    .dataframe tbody tr th:only-of-type {\n",
       "        vertical-align: middle;\n",
       "    }\n",
       "\n",
       "    .dataframe tbody tr th {\n",
       "        vertical-align: top;\n",
       "    }\n",
       "\n",
       "    .dataframe thead th {\n",
       "        text-align: right;\n",
       "    }\n",
       "</style>\n",
       "<table border=\"1\" class=\"dataframe\">\n",
       "  <thead>\n",
       "    <tr style=\"text-align: right;\">\n",
       "      <th></th>\n",
       "      <th>Nível de risco</th>\n",
       "      <th>Possui servidor CFTV</th>\n",
       "      <th>Pessoa Física, Jurídica, ou Órgão Público</th>\n",
       "      <th>Código do evento</th>\n",
       "      <th>Confirmado</th>\n",
       "      <th>hora</th>\n",
       "    </tr>\n",
       "  </thead>\n",
       "  <tbody>\n",
       "    <tr>\n",
       "      <th>0</th>\n",
       "      <td>5</td>\n",
       "      <td>0</td>\n",
       "      <td>0</td>\n",
       "      <td>131</td>\n",
       "      <td>1</td>\n",
       "      <td>00</td>\n",
       "    </tr>\n",
       "    <tr>\n",
       "      <th>1</th>\n",
       "      <td>5</td>\n",
       "      <td>0</td>\n",
       "      <td>0</td>\n",
       "      <td>131</td>\n",
       "      <td>1</td>\n",
       "      <td>00</td>\n",
       "    </tr>\n",
       "    <tr>\n",
       "      <th>2</th>\n",
       "      <td>5</td>\n",
       "      <td>0</td>\n",
       "      <td>0</td>\n",
       "      <td>131</td>\n",
       "      <td>1</td>\n",
       "      <td>00</td>\n",
       "    </tr>\n",
       "    <tr>\n",
       "      <th>3</th>\n",
       "      <td>4</td>\n",
       "      <td>0</td>\n",
       "      <td>0</td>\n",
       "      <td>130</td>\n",
       "      <td>0</td>\n",
       "      <td>00</td>\n",
       "    </tr>\n",
       "    <tr>\n",
       "      <th>4</th>\n",
       "      <td>5</td>\n",
       "      <td>1</td>\n",
       "      <td>0</td>\n",
       "      <td>131</td>\n",
       "      <td>1</td>\n",
       "      <td>00</td>\n",
       "    </tr>\n",
       "  </tbody>\n",
       "</table>\n",
       "</div>"
      ],
      "text/plain": [
       "   Nível de risco  Possui servidor CFTV  \\\n",
       "0               5                     0   \n",
       "1               5                     0   \n",
       "2               5                     0   \n",
       "3               4                     0   \n",
       "4               5                     1   \n",
       "\n",
       "   Pessoa Física, Jurídica, ou Órgão Público Código do evento  Confirmado hora  \n",
       "0                                          0              131           1   00  \n",
       "1                                          0              131           1   00  \n",
       "2                                          0              131           1   00  \n",
       "3                                          0              130           0   00  \n",
       "4                                          0              131           1   00  "
      ]
     },
     "execution_count": 13,
     "metadata": {},
     "output_type": "execute_result"
    }
   ],
   "source": [
    "df.head()"
   ]
  },
  {
   "cell_type": "markdown",
   "metadata": {},
   "source": [
    "## Análise Gráfica"
   ]
  },
  {
   "cell_type": "markdown",
   "metadata": {},
   "source": [
    "Abaixo tem-se o gráfico indicando o número de eventos confirmados e não confirmados. Pode-se observar que o valor \"0\" é bem mais volumoso do que o \"1\"."
   ]
  },
  {
   "cell_type": "code",
   "execution_count": 14,
   "metadata": {},
   "outputs": [
    {
     "data": {
      "text/plain": [
       "<matplotlib.axes._subplots.AxesSubplot at 0x21b093e6b38>"
      ]
     },
     "execution_count": 14,
     "metadata": {},
     "output_type": "execute_result"
    },
    {
     "data": {
      "image/png": "[encoded data removed]",
      "text/plain": [
       "<Figure size 432x288 with 1 Axes>"
      ]
     },
     "metadata": {},
     "output_type": "display_data"
    }
   ],
   "source": [
    "sns.countplot(x='Confirmado',data=df)"
   ]
  },
  {
   "cell_type": "markdown",
   "metadata": {},
   "source": [
    "Vamos analisar agora a relação das \"horas\" com a variável \"Confirmado\". "
   ]
  },
  {
   "cell_type": "code",
   "execution_count": 15,
   "metadata": {},
   "outputs": [
    {
     "data": {
      "text/plain": [
       "<matplotlib.axes._subplots.AxesSubplot at 0x21b093d86a0>"
      ]
     },
     "execution_count": 15,
     "metadata": {},
     "output_type": "execute_result"
    },
    {
     "data": {
      "image/png": "[encoded data removed]",
      "text/plain": [
       "<Figure size 432x288 with 1 Axes>"
      ]
     },
     "metadata": {},
     "output_type": "display_data"
    }
   ],
   "source": [
    "sns.countplot(x='hora',hue='Confirmado',data=df)"
   ]
  },
  {
   "cell_type": "markdown",
   "metadata": {},
   "source": [
    "Abaixo o gráfico sobre o \"Nível de risco\". Tem-se que o nível de risco 3 e 4 estão bem mais presentes para Confirmado=0 do que Confirmado=1"
   ]
  },
  {
   "cell_type": "code",
   "execution_count": 16,
   "metadata": {},
   "outputs": [
    {
     "data": {
      "text/plain": [
       "<matplotlib.axes._subplots.AxesSubplot at 0x21b093d8ba8>"
      ]
     },
     "execution_count": 16,
     "metadata": {},
     "output_type": "execute_result"
    },
    {
     "data": {
      "image/png": "[encoded data removed]",
      "text/plain": [
       "<Figure size 432x288 with 1 Axes>"
      ]
     },
     "metadata": {},
     "output_type": "display_data"
    }
   ],
   "source": [
    "sns.countplot(x='Confirmado',hue='Nível de risco',data=df)"
   ]
  },
  {
   "cell_type": "markdown",
   "metadata": {},
   "source": [
    "No gráfico abaixo tem-se que a variável \"Possui servidor CFTV\"=0 apresenta uma porcentagem bem mais alta para \"confirmado\"=0 do se comparado com \"confirmado\"=1"
   ]
  },
  {
   "cell_type": "code",
   "execution_count": 17,
   "metadata": {},
   "outputs": [
    {
     "data": {
      "text/plain": [
       "<matplotlib.axes._subplots.AxesSubplot at 0x21b09819550>"
      ]
     },
     "execution_count": 17,
     "metadata": {},
     "output_type": "execute_result"
    },
    {
     "data": {
      "image/png": "[encoded data removed]",
      "text/plain": [
       "<Figure size 432x288 with 1 Axes>"
      ]
     },
     "metadata": {},
     "output_type": "display_data"
    }
   ],
   "source": [
    "sns.countplot(x='Confirmado',hue='Possui servidor CFTV',data=df)"
   ]
  },
  {
   "cell_type": "markdown",
   "metadata": {},
   "source": [
    "Analisando abaixo a variável 'Pessoa Física, Jurídica, ou Órgão Público' temos que o resultado 2 não aparece para confirmado=0"
   ]
  },
  {
   "cell_type": "code",
   "execution_count": 18,
   "metadata": {},
   "outputs": [
    {
     "data": {
      "text/plain": [
       "<matplotlib.axes._subplots.AxesSubplot at 0x21b09865cf8>"
      ]
     },
     "execution_count": 18,
     "metadata": {},
     "output_type": "execute_result"
    },
    {
     "data": {
      "image/png": "[encoded data removed]",
      "text/plain": [
       "<Figure size 432x288 with 1 Axes>"
      ]
     },
     "metadata": {},
     "output_type": "display_data"
    }
   ],
   "source": [
    "sns.countplot(x='Confirmado',hue='Pessoa Física, Jurídica, ou Órgão Público',data=df)"
   ]
  },
  {
   "cell_type": "code",
   "execution_count": 19,
   "metadata": {},
   "outputs": [
    {
     "name": "stdout",
     "output_type": "stream",
     "text": [
      "<class 'pandas.core.frame.DataFrame'>\n",
      "RangeIndex: 1000 entries, 0 to 999\n",
      "Data columns (total 6 columns):\n",
      "Nível de risco                               1000 non-null int64\n",
      "Possui servidor CFTV                         1000 non-null int64\n",
      "Pessoa Física, Jurídica, ou Órgão Público    1000 non-null int64\n",
      "Código do evento                             1000 non-null object\n",
      "Confirmado                                   1000 non-null int64\n",
      "hora                                         1000 non-null object\n",
      "dtypes: int64(4), object(2)\n",
      "memory usage: 47.0+ KB\n"
     ]
    }
   ],
   "source": [
    "df.info()"
   ]
  },
  {
   "cell_type": "code",
   "execution_count": 20,
   "metadata": {},
   "outputs": [],
   "source": [
    "#df['hora'] = df['hora'].astype(int)"
   ]
  },
  {
   "cell_type": "markdown",
   "metadata": {},
   "source": [
    "# Construindo um modelo de Regressão Logística\n",
    "\n",
    "Como temos um conjunto de dados \"train\" na qual já se sabe a saída correta, dada pela coluna \"Confirmado\", devemos utilizar um modelo de aprendizagem supervisionada. Por se tratar de classificação entre confirmado ou não, \"1\" ou \"0\", \n",
    "optou-se pelo algoritmo de regressão logistica, já que este fornece a problabilidade de um evento ocorrer ou não atendendo o solicitado pelo problema.\n",
    "\n"
   ]
  },
  {
   "cell_type": "markdown",
   "metadata": {},
   "source": [
    "## Divisão treino-teste"
   ]
  },
  {
   "cell_type": "markdown",
   "metadata": {},
   "source": [
    "Vamos começar dividindo nossos dados em um conjunto de treinamento e conjunto de testes:"
   ]
  },
  {
   "cell_type": "code",
   "execution_count": 21,
   "metadata": {},
   "outputs": [],
   "source": [
    "from sklearn.model_selection import train_test_split"
   ]
  },
  {
   "cell_type": "code",
   "execution_count": 22,
   "metadata": {},
   "outputs": [],
   "source": [
    "X_train, X_test, y_train, y_test = train_test_split(df.drop('Confirmado',axis=1), \n",
    "                                                    df['Confirmado'], test_size=0.30, \n",
    "                                                    random_state=101)"
   ]
  },
  {
   "cell_type": "markdown",
   "metadata": {},
   "source": [
    "## Training and Predicting"
   ]
  },
  {
   "cell_type": "markdown",
   "metadata": {},
   "source": [
    "Vamos agora aplicar o modelo de Regressão Logistica:"
   ]
  },
  {
   "cell_type": "code",
   "execution_count": 23,
   "metadata": {},
   "outputs": [],
   "source": [
    "from sklearn.linear_model import LogisticRegression"
   ]
  },
  {
   "cell_type": "code",
   "execution_count": 24,
   "metadata": {},
   "outputs": [
    {
     "data": {
      "text/plain": [
       "LogisticRegression(C=1.0, class_weight=None, dual=False, fit_intercept=True,\n",
       "          intercept_scaling=1, max_iter=100, multi_class='ovr', n_jobs=1,\n",
       "          penalty='l2', random_state=None, solver='liblinear', tol=0.0001,\n",
       "          verbose=0, warm_start=False)"
      ]
     },
     "execution_count": 24,
     "metadata": {},
     "output_type": "execute_result"
    }
   ],
   "source": [
    "logmodel = LogisticRegression()\n",
    "logmodel.fit(X_train,y_train)"
   ]
  },
  {
   "cell_type": "markdown",
   "metadata": {},
   "source": [
    "Fazendo a previsão nos dados de teste:"
   ]
  },
  {
   "cell_type": "code",
   "execution_count": 25,
   "metadata": {},
   "outputs": [],
   "source": [
    "predictions = logmodel.predict(X_test)"
   ]
  },
  {
   "cell_type": "markdown",
   "metadata": {},
   "source": [
    "## Avaliação"
   ]
  },
  {
   "cell_type": "markdown",
   "metadata": {},
   "source": [
    "Vamos agora comparar os resultados previstos nos dados de teste (predictions) com os resultados reais já conhecidos deste (y_test) e analisar a assertividade do modelo."
   ]
  },
  {
   "cell_type": "code",
   "execution_count": 26,
   "metadata": {},
   "outputs": [],
   "source": [
    "from sklearn.metrics import classification_report"
   ]
  },
  {
   "cell_type": "code",
   "execution_count": 27,
   "metadata": {},
   "outputs": [
    {
     "name": "stdout",
     "output_type": "stream",
     "text": [
      "             precision    recall  f1-score   support\n",
      "\n",
      "          0       0.94      1.00      0.97       276\n",
      "          1       1.00      0.29      0.45        24\n",
      "\n",
      "avg / total       0.95      0.94      0.93       300\n",
      "\n"
     ]
    }
   ],
   "source": [
    "print(classification_report(y_test,predictions))"
   ]
  },
  {
   "cell_type": "markdown",
   "metadata": {},
   "source": [
    "Conseguimos uma precisão em torno de 95%, sendo este um resultado muito bom"
   ]
  },
  {
   "cell_type": "markdown",
   "metadata": {},
   "source": [
    "## Previsão no dataset \"test\""
   ]
  },
  {
   "cell_type": "markdown",
   "metadata": {},
   "source": [
    "Vamos agora realizar a previsão no dataset test.csv. Para isso temos que tratar os dados da mesma forma que tratamos o datset train.csv"
   ]
  },
  {
   "cell_type": "code",
   "execution_count": 28,
   "metadata": {},
   "outputs": [
    {
     "data": {
      "text/html": [
       "<div>\n",
       "<style scoped>\n",
       "    .dataframe tbody tr th:only-of-type {\n",
       "        vertical-align: middle;\n",
       "    }\n",
       "\n",
       "    .dataframe tbody tr th {\n",
       "        vertical-align: top;\n",
       "    }\n",
       "\n",
       "    .dataframe thead th {\n",
       "        text-align: right;\n",
       "    }\n",
       "</style>\n",
       "<table border=\"1\" class=\"dataframe\">\n",
       "  <thead>\n",
       "    <tr style=\"text-align: right;\">\n",
       "      <th></th>\n",
       "      <th>Código Cliente</th>\n",
       "      <th>Nível de risco</th>\n",
       "      <th>Possui servidor CFTV</th>\n",
       "      <th>Pessoa Física, Jurídica, ou Órgão Público</th>\n",
       "      <th>Estado</th>\n",
       "      <th>Cidade</th>\n",
       "      <th>Bairro</th>\n",
       "      <th>Data/hora</th>\n",
       "      <th>Código do evento</th>\n",
       "    </tr>\n",
       "  </thead>\n",
       "  <tbody>\n",
       "    <tr>\n",
       "      <th>0</th>\n",
       "      <td>8984</td>\n",
       "      <td>4</td>\n",
       "      <td>1</td>\n",
       "      <td>2</td>\n",
       "      <td>SP</td>\n",
       "      <td>SAO CARLOS</td>\n",
       "      <td>RESID MONS ROMEU TORTORELLI</td>\n",
       "      <td>2019-01-03 19:44:13.623</td>\n",
       "      <td>E130</td>\n",
       "    </tr>\n",
       "    <tr>\n",
       "      <th>1</th>\n",
       "      <td>8984</td>\n",
       "      <td>4</td>\n",
       "      <td>1</td>\n",
       "      <td>2</td>\n",
       "      <td>SP</td>\n",
       "      <td>SAO CARLOS</td>\n",
       "      <td>RESID MONS ROMEU TORTORELLI</td>\n",
       "      <td>2019-01-03 19:44:21.167</td>\n",
       "      <td>E130</td>\n",
       "    </tr>\n",
       "    <tr>\n",
       "      <th>2</th>\n",
       "      <td>8984</td>\n",
       "      <td>4</td>\n",
       "      <td>1</td>\n",
       "      <td>2</td>\n",
       "      <td>SP</td>\n",
       "      <td>SAO CARLOS</td>\n",
       "      <td>RESID MONS ROMEU TORTORELLI</td>\n",
       "      <td>2019-01-03 19:44:28.617</td>\n",
       "      <td>E130</td>\n",
       "    </tr>\n",
       "    <tr>\n",
       "      <th>3</th>\n",
       "      <td>8984</td>\n",
       "      <td>4</td>\n",
       "      <td>1</td>\n",
       "      <td>2</td>\n",
       "      <td>SP</td>\n",
       "      <td>SAO CARLOS</td>\n",
       "      <td>RESID MONS ROMEU TORTORELLI</td>\n",
       "      <td>2019-01-03 19:44:36.127</td>\n",
       "      <td>E130</td>\n",
       "    </tr>\n",
       "    <tr>\n",
       "      <th>4</th>\n",
       "      <td>8984</td>\n",
       "      <td>4</td>\n",
       "      <td>1</td>\n",
       "      <td>2</td>\n",
       "      <td>SP</td>\n",
       "      <td>SAO CARLOS</td>\n",
       "      <td>RESID MONS ROMEU TORTORELLI</td>\n",
       "      <td>2019-01-03 19:44:42.813</td>\n",
       "      <td>E130</td>\n",
       "    </tr>\n",
       "  </tbody>\n",
       "</table>\n",
       "</div>"
      ],
      "text/plain": [
       "   Código Cliente  Nível de risco  Possui servidor CFTV  \\\n",
       "0            8984               4                     1   \n",
       "1            8984               4                     1   \n",
       "2            8984               4                     1   \n",
       "3            8984               4                     1   \n",
       "4            8984               4                     1   \n",
       "\n",
       "   Pessoa Física, Jurídica, ou Órgão Público Estado      Cidade  \\\n",
       "0                                          2     SP  SAO CARLOS   \n",
       "1                                          2     SP  SAO CARLOS   \n",
       "2                                          2     SP  SAO CARLOS   \n",
       "3                                          2     SP  SAO CARLOS   \n",
       "4                                          2     SP  SAO CARLOS   \n",
       "\n",
       "                        Bairro                Data/hora Código do evento   \n",
       "0  RESID MONS ROMEU TORTORELLI  2019-01-03 19:44:13.623              E130  \n",
       "1  RESID MONS ROMEU TORTORELLI  2019-01-03 19:44:21.167              E130  \n",
       "2  RESID MONS ROMEU TORTORELLI  2019-01-03 19:44:28.617              E130  \n",
       "3  RESID MONS ROMEU TORTORELLI  2019-01-03 19:44:36.127              E130  \n",
       "4  RESID MONS ROMEU TORTORELLI  2019-01-03 19:44:42.813              E130  "
      ]
     },
     "execution_count": 28,
     "metadata": {},
     "output_type": "execute_result"
    }
   ],
   "source": [
    "dftest.head()"
   ]
  },
  {
   "cell_type": "code",
   "execution_count": 29,
   "metadata": {},
   "outputs": [
    {
     "data": {
      "text/plain": [
       "Código Cliente                               0\n",
       "Nível de risco                               0\n",
       "Possui servidor CFTV                         0\n",
       "Pessoa Física, Jurídica, ou Órgão Público    0\n",
       "Estado                                       0\n",
       "Cidade                                       0\n",
       "Bairro                                       0\n",
       "Data/hora                                    0\n",
       "Código do evento                             0\n",
       "dtype: int64"
      ]
     },
     "execution_count": 29,
     "metadata": {},
     "output_type": "execute_result"
    }
   ],
   "source": [
    "#conferindo dados ausentes\n",
    "dftest.isnull().sum()"
   ]
  },
  {
   "cell_type": "code",
   "execution_count": 30,
   "metadata": {},
   "outputs": [],
   "source": [
    "#retirando espaços em branco dos lados direito e esquerdo dos nomes das colunas\n",
    "dftest.columns = [x.strip() for x in dftest.columns]"
   ]
  },
  {
   "cell_type": "code",
   "execution_count": 31,
   "metadata": {},
   "outputs": [],
   "source": [
    "#separando as horas\n",
    "dftest[['Data','Hora']] = dftest['Data/hora'].str.split(expand=True) "
   ]
  },
  {
   "cell_type": "code",
   "execution_count": 32,
   "metadata": {},
   "outputs": [],
   "source": [
    "dftest[['ano','mes','dia']] = dftest['Data'].str.split(expand=True,pat='-') "
   ]
  },
  {
   "cell_type": "code",
   "execution_count": 33,
   "metadata": {},
   "outputs": [],
   "source": [
    "dftest[['hora','min','seg']] = dftest['Hora'].str.split(expand=True,pat=':') "
   ]
  },
  {
   "cell_type": "code",
   "execution_count": 34,
   "metadata": {},
   "outputs": [],
   "source": [
    "dftest['Código do evento']=dftest['Código do evento'].str.slice(start=1)"
   ]
  },
  {
   "cell_type": "code",
   "execution_count": 35,
   "metadata": {},
   "outputs": [],
   "source": [
    "#retirando colunas não utilizadas\n",
    "dftest.drop(['Data/hora','Estado','Data','Hora','ano','mes','dia','min','seg','Cidade','Bairro','Código Cliente'],axis=1,inplace=True)"
   ]
  },
  {
   "cell_type": "code",
   "execution_count": 36,
   "metadata": {},
   "outputs": [
    {
     "data": {
      "text/html": [
       "<div>\n",
       "<style scoped>\n",
       "    .dataframe tbody tr th:only-of-type {\n",
       "        vertical-align: middle;\n",
       "    }\n",
       "\n",
       "    .dataframe tbody tr th {\n",
       "        vertical-align: top;\n",
       "    }\n",
       "\n",
       "    .dataframe thead th {\n",
       "        text-align: right;\n",
       "    }\n",
       "</style>\n",
       "<table border=\"1\" class=\"dataframe\">\n",
       "  <thead>\n",
       "    <tr style=\"text-align: right;\">\n",
       "      <th></th>\n",
       "      <th>Nível de risco</th>\n",
       "      <th>Possui servidor CFTV</th>\n",
       "      <th>Pessoa Física, Jurídica, ou Órgão Público</th>\n",
       "      <th>Código do evento</th>\n",
       "      <th>hora</th>\n",
       "    </tr>\n",
       "  </thead>\n",
       "  <tbody>\n",
       "    <tr>\n",
       "      <th>0</th>\n",
       "      <td>4</td>\n",
       "      <td>1</td>\n",
       "      <td>2</td>\n",
       "      <td>130</td>\n",
       "      <td>19</td>\n",
       "    </tr>\n",
       "    <tr>\n",
       "      <th>1</th>\n",
       "      <td>4</td>\n",
       "      <td>1</td>\n",
       "      <td>2</td>\n",
       "      <td>130</td>\n",
       "      <td>19</td>\n",
       "    </tr>\n",
       "    <tr>\n",
       "      <th>2</th>\n",
       "      <td>4</td>\n",
       "      <td>1</td>\n",
       "      <td>2</td>\n",
       "      <td>130</td>\n",
       "      <td>19</td>\n",
       "    </tr>\n",
       "    <tr>\n",
       "      <th>3</th>\n",
       "      <td>4</td>\n",
       "      <td>1</td>\n",
       "      <td>2</td>\n",
       "      <td>130</td>\n",
       "      <td>19</td>\n",
       "    </tr>\n",
       "    <tr>\n",
       "      <th>4</th>\n",
       "      <td>4</td>\n",
       "      <td>1</td>\n",
       "      <td>2</td>\n",
       "      <td>130</td>\n",
       "      <td>19</td>\n",
       "    </tr>\n",
       "  </tbody>\n",
       "</table>\n",
       "</div>"
      ],
      "text/plain": [
       "   Nível de risco  Possui servidor CFTV  \\\n",
       "0               4                     1   \n",
       "1               4                     1   \n",
       "2               4                     1   \n",
       "3               4                     1   \n",
       "4               4                     1   \n",
       "\n",
       "   Pessoa Física, Jurídica, ou Órgão Público Código do evento hora  \n",
       "0                                          2              130   19  \n",
       "1                                          2              130   19  \n",
       "2                                          2              130   19  \n",
       "3                                          2              130   19  \n",
       "4                                          2              130   19  "
      ]
     },
     "execution_count": 36,
     "metadata": {},
     "output_type": "execute_result"
    }
   ],
   "source": [
    "dftest.head()"
   ]
  },
  {
   "cell_type": "code",
   "execution_count": 37,
   "metadata": {},
   "outputs": [],
   "source": [
    "#dftest['hora'] = dftest['hora'].astype(int)"
   ]
  },
  {
   "cell_type": "code",
   "execution_count": null,
   "metadata": {},
   "outputs": [],
   "source": []
  },
  {
   "cell_type": "markdown",
   "metadata": {},
   "source": [
    "Preparado o dadaset \"dftest\", vamos treinar novamente o modelo de regressão logística agora utilizando todo o dataset de df (train.csv):"
   ]
  },
  {
   "cell_type": "code",
   "execution_count": 38,
   "metadata": {},
   "outputs": [],
   "source": [
    "dfx=df.drop('Confirmado',axis=1)\n",
    "dfy=df['Confirmado']"
   ]
  },
  {
   "cell_type": "code",
   "execution_count": 39,
   "metadata": {},
   "outputs": [],
   "source": [
    "from sklearn.linear_model import LogisticRegression"
   ]
  },
  {
   "cell_type": "code",
   "execution_count": 40,
   "metadata": {},
   "outputs": [
    {
     "data": {
      "text/plain": [
       "LogisticRegression(C=1.0, class_weight=None, dual=False, fit_intercept=True,\n",
       "          intercept_scaling=1, max_iter=100, multi_class='ovr', n_jobs=1,\n",
       "          penalty='l2', random_state=None, solver='liblinear', tol=0.0001,\n",
       "          verbose=0, warm_start=False)"
      ]
     },
     "execution_count": 40,
     "metadata": {},
     "output_type": "execute_result"
    }
   ],
   "source": [
    "logmodel = LogisticRegression()\n",
    "logmodel.fit(dfx,dfy)"
   ]
  },
  {
   "cell_type": "markdown",
   "metadata": {},
   "source": [
    "Fazendo a previsão no dftest:"
   ]
  },
  {
   "cell_type": "code",
   "execution_count": 41,
   "metadata": {},
   "outputs": [],
   "source": [
    "predictions = logmodel.predict(dftest)"
   ]
  },
  {
   "cell_type": "markdown",
   "metadata": {},
   "source": [
    "Adicionando os resultados no dataset \"test\""
   ]
  },
  {
   "cell_type": "code",
   "execution_count": 47,
   "metadata": {},
   "outputs": [],
   "source": [
    "dffinal = pd.read_csv('test.csv',sep=\";\")\n"
   ]
  },
  {
   "cell_type": "code",
   "execution_count": 48,
   "metadata": {},
   "outputs": [],
   "source": [
    "dffinal['Confirmado']=predictions"
   ]
  },
  {
   "cell_type": "code",
   "execution_count": 49,
   "metadata": {},
   "outputs": [
    {
     "data": {
      "text/html": [
       "<div>\n",
       "<style scoped>\n",
       "    .dataframe tbody tr th:only-of-type {\n",
       "        vertical-align: middle;\n",
       "    }\n",
       "\n",
       "    .dataframe tbody tr th {\n",
       "        vertical-align: top;\n",
       "    }\n",
       "\n",
       "    .dataframe thead th {\n",
       "        text-align: right;\n",
       "    }\n",
       "</style>\n",
       "<table border=\"1\" class=\"dataframe\">\n",
       "  <thead>\n",
       "    <tr style=\"text-align: right;\">\n",
       "      <th></th>\n",
       "      <th>Código Cliente</th>\n",
       "      <th>Nível de risco</th>\n",
       "      <th>Possui servidor CFTV</th>\n",
       "      <th>Pessoa Física, Jurídica, ou Órgão Público</th>\n",
       "      <th>Estado</th>\n",
       "      <th>Cidade</th>\n",
       "      <th>Bairro</th>\n",
       "      <th>Data/hora</th>\n",
       "      <th>Código do evento</th>\n",
       "      <th>Confirmado</th>\n",
       "    </tr>\n",
       "  </thead>\n",
       "  <tbody>\n",
       "    <tr>\n",
       "      <th>0</th>\n",
       "      <td>8984</td>\n",
       "      <td>4</td>\n",
       "      <td>1</td>\n",
       "      <td>2</td>\n",
       "      <td>SP</td>\n",
       "      <td>SAO CARLOS</td>\n",
       "      <td>RESID MONS ROMEU TORTORELLI</td>\n",
       "      <td>2019-01-03 19:44:13.623</td>\n",
       "      <td>E130</td>\n",
       "      <td>0</td>\n",
       "    </tr>\n",
       "    <tr>\n",
       "      <th>1</th>\n",
       "      <td>8984</td>\n",
       "      <td>4</td>\n",
       "      <td>1</td>\n",
       "      <td>2</td>\n",
       "      <td>SP</td>\n",
       "      <td>SAO CARLOS</td>\n",
       "      <td>RESID MONS ROMEU TORTORELLI</td>\n",
       "      <td>2019-01-03 19:44:21.167</td>\n",
       "      <td>E130</td>\n",
       "      <td>0</td>\n",
       "    </tr>\n",
       "    <tr>\n",
       "      <th>2</th>\n",
       "      <td>8984</td>\n",
       "      <td>4</td>\n",
       "      <td>1</td>\n",
       "      <td>2</td>\n",
       "      <td>SP</td>\n",
       "      <td>SAO CARLOS</td>\n",
       "      <td>RESID MONS ROMEU TORTORELLI</td>\n",
       "      <td>2019-01-03 19:44:28.617</td>\n",
       "      <td>E130</td>\n",
       "      <td>0</td>\n",
       "    </tr>\n",
       "    <tr>\n",
       "      <th>3</th>\n",
       "      <td>8984</td>\n",
       "      <td>4</td>\n",
       "      <td>1</td>\n",
       "      <td>2</td>\n",
       "      <td>SP</td>\n",
       "      <td>SAO CARLOS</td>\n",
       "      <td>RESID MONS ROMEU TORTORELLI</td>\n",
       "      <td>2019-01-03 19:44:36.127</td>\n",
       "      <td>E130</td>\n",
       "      <td>0</td>\n",
       "    </tr>\n",
       "    <tr>\n",
       "      <th>4</th>\n",
       "      <td>8984</td>\n",
       "      <td>4</td>\n",
       "      <td>1</td>\n",
       "      <td>2</td>\n",
       "      <td>SP</td>\n",
       "      <td>SAO CARLOS</td>\n",
       "      <td>RESID MONS ROMEU TORTORELLI</td>\n",
       "      <td>2019-01-03 19:44:42.813</td>\n",
       "      <td>E130</td>\n",
       "      <td>0</td>\n",
       "    </tr>\n",
       "  </tbody>\n",
       "</table>\n",
       "</div>"
      ],
      "text/plain": [
       "   Código Cliente  Nível de risco  Possui servidor CFTV  \\\n",
       "0            8984               4                     1   \n",
       "1            8984               4                     1   \n",
       "2            8984               4                     1   \n",
       "3            8984               4                     1   \n",
       "4            8984               4                     1   \n",
       "\n",
       "   Pessoa Física, Jurídica, ou Órgão Público Estado      Cidade  \\\n",
       "0                                          2     SP  SAO CARLOS   \n",
       "1                                          2     SP  SAO CARLOS   \n",
       "2                                          2     SP  SAO CARLOS   \n",
       "3                                          2     SP  SAO CARLOS   \n",
       "4                                          2     SP  SAO CARLOS   \n",
       "\n",
       "                        Bairro                Data/hora Código do evento   \\\n",
       "0  RESID MONS ROMEU TORTORELLI  2019-01-03 19:44:13.623              E130   \n",
       "1  RESID MONS ROMEU TORTORELLI  2019-01-03 19:44:21.167              E130   \n",
       "2  RESID MONS ROMEU TORTORELLI  2019-01-03 19:44:28.617              E130   \n",
       "3  RESID MONS ROMEU TORTORELLI  2019-01-03 19:44:36.127              E130   \n",
       "4  RESID MONS ROMEU TORTORELLI  2019-01-03 19:44:42.813              E130   \n",
       "\n",
       "   Confirmado  \n",
       "0           0  \n",
       "1           0  \n",
       "2           0  \n",
       "3           0  \n",
       "4           0  "
      ]
     },
     "execution_count": 49,
     "metadata": {},
     "output_type": "execute_result"
    }
   ],
   "source": [
    "dffinal.head()"
   ]
  },
  {
   "cell_type": "markdown",
   "metadata": {},
   "source": [
    "Analisando e comparando os resultados com o dataset train:"
   ]
  },
  {
   "cell_type": "code",
   "execution_count": 44,
   "metadata": {},
   "outputs": [
    {
     "data": {
      "text/plain": [
       "<matplotlib.axes._subplots.AxesSubplot at 0x21b09d507f0>"
      ]
     },
     "execution_count": 44,
     "metadata": {},
     "output_type": "execute_result"
    },
    {
     "data": {
      "image/png": "[encoded data removed]",
      "text/plain": [
       "<Figure size 432x288 with 1 Axes>"
      ]
     },
     "metadata": {},
     "output_type": "display_data"
    }
   ],
   "source": [
    "sns.countplot(x='Confirmado',data=dftest)"
   ]
  },
  {
   "cell_type": "code",
   "execution_count": 45,
   "metadata": {},
   "outputs": [
    {
     "data": {
      "text/plain": [
       "<matplotlib.axes._subplots.AxesSubplot at 0x21b09d3b320>"
      ]
     },
     "execution_count": 45,
     "metadata": {},
     "output_type": "execute_result"
    },
    {
     "data": {
      "image/png": "[encoded data removed]",
      "text/plain": [
       "<Figure size 432x288 with 1 Axes>"
      ]
     },
     "metadata": {},
     "output_type": "display_data"
    }
   ],
   "source": [
    "sns.countplot(x='Confirmado',data=df)"
   ]
  },
  {
   "cell_type": "markdown",
   "metadata": {},
   "source": [
    "Pelos gráficos temos que a proporção de \"0\" e \"1\" dos dados previstos(dftest) é próxima dos dados de treino (df)"
   ]
  },
  {
   "cell_type": "markdown",
   "metadata": {},
   "source": [
    "Exportando os dados"
   ]
  },
  {
   "cell_type": "code",
   "execution_count": 50,
   "metadata": {},
   "outputs": [],
   "source": [
    "dffinal.to_csv('resultado.csv',index=False)"
   ]
  },
  {
   "cell_type": "markdown",
   "metadata": {},
   "source": [
    "# The End - That's all Folks"
   ]
  },
  {
   "cell_type": "code",
   "execution_count": null,
   "metadata": {},
   "outputs": [],
   "source": []
  }
 ],
 "metadata": {
  "kernelspec": {
   "display_name": "Python 3",
   "language": "python",
   "name": "python3"
  },
  "language_info": {
   "codemirror_mode": {
    "name": "ipython",
    "version": 3
   },
   "file_extension": ".py",
   "mimetype": "text/x-python",
   "name": "python",
   "nbconvert_exporter": "python",
   "pygments_lexer": "ipython3",
   "version": "3.6.5"
  }
 },
 "nbformat": 4,
 "nbformat_minor": 2
}
